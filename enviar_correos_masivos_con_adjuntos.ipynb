{
  "nbformat": 4,
  "nbformat_minor": 0,
  "metadata": {
    "colab": {
      "provenance": [],
      "authorship_tag": "ABX9TyPLHcVshu3HsLXz7QUvsXXW",
      "include_colab_link": true
    },
    "kernelspec": {
      "name": "python3",
      "display_name": "Python 3"
    },
    "language_info": {
      "name": "python"
    }
  },
  "cells": [
    {
      "cell_type": "markdown",
      "metadata": {
        "id": "view-in-github",
        "colab_type": "text"
      },
      "source": [
        "<a href=\"https://colab.research.google.com/github/Vic-pro-grama/1822-Almacenando-Datos-En-El-Navegador/blob/projectoInicial/enviar_correos_masivos_con_adjuntos.ipynb\" target=\"_parent\"><img src=\"https://colab.research.google.com/assets/colab-badge.svg\" alt=\"Open In Colab\"/></a>"
      ]
    },
    {
      "cell_type": "markdown",
      "source": [
        "Primara parte importacion"
      ],
      "metadata": {
        "id": "MQNZM2id4O6H"
      }
    },
    {
      "cell_type": "code",
      "execution_count": 2,
      "metadata": {
        "id": "iT2roMyU21Q-"
      },
      "outputs": [],
      "source": [
        "import smtplib\n",
        "import email.mime.multipart\n",
        "import email.mime.base\n",
        "import os\n",
        "from email.mime.text import MIMEText"
      ]
    },
    {
      "cell_type": "markdown",
      "source": [
        "Crea coneccion SMTP"
      ],
      "metadata": {
        "id": "h2F2E8CbAJ2X"
      }
    },
    {
      "cell_type": "code",
      "source": [
        "#inicia cesion en tu cuenta de gmail\n",
        "server = smtplib.SMTP('smtp.gmail.com',587)\n",
        "\n",
        "correo = 'victorfcortez@gmail.com'\n",
        "pas = 'Queteimporta01'\n",
        "server.starttls()\n",
        "\n",
        "server.login(correo,pas)\n"
      ],
      "metadata": {
        "id": "KOLc67xBAfHE"
      },
      "execution_count": null,
      "outputs": []
    }
  ]
}