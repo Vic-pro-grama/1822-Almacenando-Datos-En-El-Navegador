{
  "nbformat": 4,
  "nbformat_minor": 0,
  "metadata": {
    "colab": {
      "provenance": [],
      "authorship_tag": "ABX9TyOjejGZ7jFj9OgHiNddOGpX",
      "include_colab_link": true
    },
    "kernelspec": {
      "name": "python3",
      "display_name": "Python 3"
    },
    "language_info": {
      "name": "python"
    }
  },
  "cells": [
    {
      "cell_type": "markdown",
      "metadata": {
        "id": "view-in-github",
        "colab_type": "text"
      },
      "source": [
        "<a href=\"https://colab.research.google.com/github/Vic-pro-grama/1822-Almacenando-Datos-En-El-Navegador/blob/projectoInicial/ML_clasificacion_con_SKlearn.ipynb\" target=\"_parent\"><img src=\"https://colab.research.google.com/assets/colab-badge.svg\" alt=\"Open In Colab\"/></a>"
      ]
    },
    {
      "cell_type": "markdown",
      "source": [
        "# Machine Learning: Clasificacion con SKLearn "
      ],
      "metadata": {
        "id": "Zy8POSkZ1gof"
      }
    },
    {
      "cell_type": "markdown",
      "source": [
        "En este noteboock estemos desarrollando varios ejercicios para entender como funcionan algunos algoritmos de clasificacion"
      ],
      "metadata": {
        "id": "XY5Hpviz1wXd"
      }
    },
    {
      "cell_type": "markdown",
      "source": [
        "# Aula 1 : Instroduccion a la clasificacion"
      ],
      "metadata": {
        "id": "vBrYKJie2J8J"
      }
    },
    {
      "cell_type": "code",
      "source": [
        "# features 1 =si y 0 = no \n",
        "# tiene el pelo largo?\n",
        "# tiene la uñas afiladas \n",
        "# hace miau? \n",
        "\n",
        "Perro1 = [0,1,1]\n",
        "Perro2 = [1,0,1]\n",
        "Perro3 = [1,1,1]\n",
        "\n",
        "Gato1 = [0,1,0]\n",
        "Gato2 = [0,1,1]\n",
        "Gato3 = [1,1,0]\n"
      ],
      "metadata": {
        "id": "jiEflyuV2TcL"
      },
      "execution_count": null,
      "outputs": []
    },
    {
      "cell_type": "code",
      "execution_count": 2,
      "metadata": {
        "id": "kvBl0DZGql3Y"
      },
      "outputs": [],
      "source": [
        "import pandas as pd\n"
      ]
    }
  ]
}